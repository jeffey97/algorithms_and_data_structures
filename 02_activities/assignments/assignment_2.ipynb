{
 "cells": [
  {
   "cell_type": "markdown",
   "metadata": {},
   "source": [
    "# Practice Interview\n",
    "\n",
    "## Objective\n",
    "\n",
    "_*The partner assignment aims to provide participants with the opportunity to practice coding in an interview context. You will analyze your partner's Assignment 1. Moreover, code reviews are common practice in a software development team. This assignment should give you a taste of the code review process.*_\n",
    "\n",
    "## Group Size\n",
    "\n",
    "Each group should have 2 people. You will be assigned a partner\n",
    "\n",
    "## Part 1:\n",
    "\n",
    "You and your partner must share each other's Assignment 1 submission."
   ]
  },
  {
   "cell_type": "markdown",
   "metadata": {},
   "source": [
    "\n",
    "## Part 2:\n",
    "\n",
    "Create a Jupyter Notebook, create 6 of the following headings, and complete the following for your partner's assignment 1:\n",
    "\n",
    "-   Paraphrase the problem in your own words.\n"
   ]
  },
  {
   "cell_type": "code",
   "execution_count": null,
   "metadata": {},
   "outputs": [],
   "source": [
    "# Your answer here\n",
    "# The problem asks us to find the duplicates in the binary tree.\n",
    "# Which means if the any two nodes in the tree have the same value, its a duplicate\n",
    "# The code block should find the duplicate and return the value. if there are more than one duplicate, the value of the node closest to the root has to be returned.\n",
    "# If there are no duplicates -1 should be returned."
   ]
  },
  {
   "cell_type": "markdown",
   "metadata": {},
   "source": [
    "\n",
    "-   Create 1 new example that demonstrates you understand the problem. Trace/walkthrough 1 example that your partner made and explain it.\n"
   ]
  },
  {
   "cell_type": "code",
   "execution_count": null,
   "metadata": {},
   "outputs": [],
   "source": [
    "# Your answer here\n",
    "\n",
    "# Example 1\n",
    "# Input: [1, 3, 2, 6, 7, 9, 6, 9]\n",
    "# Output: 6\n",
    "\n",
    "# Example 2\n",
    "# Input: [3, 15, 1, 5, 10, 0]\n",
    "# Output: -1"
   ]
  },
  {
   "cell_type": "markdown",
   "metadata": {},
   "source": [
    "\n",
    "-   Copy the solution your partner wrote. \n"
   ]
  },
  {
   "cell_type": "code",
   "execution_count": 1,
   "metadata": {},
   "outputs": [
    {
     "name": "stdout",
     "output_type": "stream",
     "text": [
      "2\n",
      "10\n",
      "-1\n",
      "6\n",
      "-1\n"
     ]
    }
   ],
   "source": [
    "# Definition for a binary tree node.\n",
    "class TreeNode(object):\n",
    "     def __init__(self, val = 0, left = None, right = None):\n",
    "         self.val = val\n",
    "         self.left = left\n",
    "         self.right = right\n",
    "\n",
    "def is_duplicate(input):\n",
    "    root = build_tree(input)\n",
    "    \n",
    "    #If tree is empty return None\n",
    "    if root is None:\n",
    "        return None\n",
    "\n",
    "    # Use a set to track seen values\n",
    "    seen_values = set()\n",
    "    \n",
    "    # Level-order traversal using a queue. Add root first\n",
    "    queue = [root]\n",
    "    \n",
    "    # Run while loop until queue is empty\n",
    "    while queue:\n",
    "        # Pop from queue to a node variable\n",
    "        node = queue.pop(0)\n",
    "        \n",
    "        # Check if the value in node is already in the seen set\n",
    "        if node.val in seen_values:\n",
    "            return node.val\n",
    "        \n",
    "        # If not seen above, add to seen values\n",
    "        seen_values.add(node.val)\n",
    "        \n",
    "        # Add the children to the queue if they exist\n",
    "        if node.left:\n",
    "            queue.append(node.left)\n",
    "            \n",
    "        if node.right:\n",
    "            queue.append(node.right)\n",
    "    \n",
    "    # If no duplicates are found\n",
    "    return -1\n",
    "\n",
    "\n",
    "def build_tree(input, i=0):\n",
    "    # If the length of list is exceeded return None (none)\n",
    "    if i >= len(input):\n",
    "        return None\n",
    "\n",
    "    # Create the current node\n",
    "    node = TreeNode(input[i])\n",
    "\n",
    "    # Recursively assign left and right children\n",
    "    node.left = build_tree(input, (2 * i) + 1)   # Left child index\n",
    "    node.right = build_tree(input, (2 * i) + 2)  # Right child index\n",
    "\n",
    "    return node\n",
    "\n",
    "\n",
    "input = [[1, 2, 2, 3, 5, 6, 7],\n",
    "         [1, 10, 2, 3, 10, 12, 12],\n",
    "         [10, 9, 8, 7],\n",
    "         [0, 5, 6, 2, 8, 9, 6, 9], \n",
    "         [2, 11, 6, 3, 9, 23]]\n",
    "\n",
    "for x in input:\n",
    "    print(is_duplicate(x))"
   ]
  },
  {
   "cell_type": "markdown",
   "metadata": {},
   "source": [
    "\n",
    "-   Explain why their solution works in your own words.\n"
   ]
  },
  {
   "cell_type": "code",
   "execution_count": null,
   "metadata": {},
   "outputs": [],
   "source": [
    "# Your answer here"
   ]
  },
  {
   "cell_type": "markdown",
   "metadata": {},
   "source": [
    "\n",
    "-   Explain the problem’s time and space complexity in your own words.\n"
   ]
  },
  {
   "cell_type": "code",
   "execution_count": null,
   "metadata": {},
   "outputs": [],
   "source": [
    "# Your answer here"
   ]
  },
  {
   "cell_type": "markdown",
   "metadata": {},
   "source": [
    "\n",
    "-   Critique your partner's solution, including explanation, and if there is anything that should be adjusted.\n"
   ]
  },
  {
   "cell_type": "code",
   "execution_count": null,
   "metadata": {},
   "outputs": [],
   "source": [
    "# Your answer here"
   ]
  },
  {
   "cell_type": "markdown",
   "metadata": {},
   "source": [
    "\n",
    "## Part 3:\n",
    "\n",
    "Please write a 200 word reflection documenting your process from assignment 1, and your presentation and review experience with your partner at the bottom of the Jupyter Notebook under a new heading \"Reflection.\" Again, export this Notebook as pdf.\n"
   ]
  },
  {
   "cell_type": "markdown",
   "metadata": {},
   "source": [
    "### Reflection"
   ]
  },
  {
   "cell_type": "code",
   "execution_count": null,
   "metadata": {},
   "outputs": [],
   "source": [
    "# Your answer here"
   ]
  },
  {
   "cell_type": "markdown",
   "metadata": {},
   "source": [
    "\n",
    "## Evaluation Criteria\n",
    "\n",
    "We are looking for the similar points as Assignment 1\n",
    "\n",
    "-   Problem is accurately stated\n",
    "\n",
    "-   New example is correct and easily understandable\n",
    "\n",
    "-   Correctness, time, and space complexity of the coding solution\n",
    "\n",
    "-   Clarity in explaining why the solution works, its time and space complexity\n",
    "\n",
    "-   Quality of critique of your partner's assignment, if necessary\n"
   ]
  },
  {
   "cell_type": "markdown",
   "metadata": {},
   "source": [
    "## Submission Information\n",
    "\n",
    "🚨 **Please review our [Assignment Submission Guide](https://github.com/UofT-DSI/onboarding/blob/main/onboarding_documents/submissions.md)** 🚨 for detailed instructions on how to format, branch, and submit your work. Following these guidelines is crucial for your submissions to be evaluated correctly.\n",
    "\n",
    "### Submission Parameters:\n",
    "* Submission Due Date: `HH:MM AM/PM - DD/MM/YYYY`\n",
    "* The branch name for your repo should be: `assignment-2`\n",
    "* What to submit for this assignment:\n",
    "    * This Jupyter Notebook (assignment_2.ipynb) should be populated and should be the only change in your pull request.\n",
    "* What the pull request link should look like for this assignment: `https://github.com/<your_github_username>/algorithms_and_data_structures/pull/<pr_id>`\n",
    "    * Open a private window in your browser. Copy and paste the link to your pull request into the address bar. Make sure you can see your pull request properly. This helps the technical facilitator and learning support staff review your submission easily.\n",
    "\n",
    "Checklist:\n",
    "- [ ] Created a branch with the correct naming convention.\n",
    "- [ ] Ensured that the repository is public.\n",
    "- [ ] Reviewed the PR description guidelines and adhered to them.\n",
    "- [ ] Verify that the link is accessible in a private browser window.\n",
    "\n",
    "If you encounter any difficulties or have questions, please don't hesitate to reach out to our team via our Slack at `#cohort-3-help`. Our Technical Facilitators and Learning Support staff are here to help you navigate any challenges.\n"
   ]
  }
 ],
 "metadata": {
  "kernelspec": {
   "display_name": "Python 3",
   "language": "python",
   "name": "python3"
  },
  "language_info": {
   "codemirror_mode": {
    "name": "ipython",
    "version": 3
   },
   "file_extension": ".py",
   "mimetype": "text/x-python",
   "name": "python",
   "nbconvert_exporter": "python",
   "pygments_lexer": "ipython3",
   "version": "3.12.6"
  }
 },
 "nbformat": 4,
 "nbformat_minor": 2
}
