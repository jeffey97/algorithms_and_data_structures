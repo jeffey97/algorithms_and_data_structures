{
 "cells": [
  {
   "cell_type": "markdown",
   "metadata": {},
   "source": [
    "# Coding Problems\n",
    "\n",
    "## Objective\n",
    "\n",
    "This assignment aims to demonstrate how to study a data structures or algorithms question in depth to prepare for an industry coding interview. Leetcode is a popular coding practice site that many use to practice for technical interviews. Like behavioral interviews, it's important to practice and keep your skills sharp.\n",
    "\n",
    "## Group Size\n",
    "\n",
    "Please complete this individually.\n",
    "\n",
    "## Part 1:\n",
    "\n",
    "_*You will be assigned one of three problems based of your first name. Execute the code below, and that will tell you your assigned problem. Include the output as part of your submission (do not clear the output). The problems are based-off problems from Leetcode.*_\n"
   ]
  },
  {
   "cell_type": "code",
   "execution_count": 1,
   "metadata": {},
   "outputs": [
    {
     "name": "stdout",
     "output_type": "stream",
     "text": [
      "2\n"
     ]
    }
   ],
   "source": [
    "print((hash('Jeffey Markus Solomon') % 3) + 1)"
   ]
  },
  {
   "cell_type": "markdown",
   "metadata": {},
   "source": [
    "<details>\n",
    "  <summary>Question 1</summary>\n",
    "\n",
    "  # Question One: Check Duplicates in Tree\n",
    "\n",
    "  Given the `root` of a binary tree, check whether it is contains a duplicate value. If a duplicate exists, return the duplicate value. If there are multiple duplicates, return the one with the closest distance to the root. If no duplicate exists, return -1.\n",
    "\n",
    "  ## Examples\n",
    "\n",
    "  ### Example 1\n",
    "\n",
    "  ![](./images/q1_ex1.png)\n",
    "\n",
    "  Input: `root = [1, 2, 2, 3, 5, 6, 7]` *What traversal method is this?*\n",
    "\n",
    "  Output: 2\n",
    "\n",
    "  ### Example 2\n",
    "\n",
    "  ![](./images/q1_ex2.png)\n",
    "\n",
    "  Input: `root = [1, 10, 2, 3, 10, 12, 12]`\n",
    "\n",
    "  Output: 10\n",
    "\n",
    "  ### Example 3\n",
    "\n",
    "  ![](./images/q1_ex3.png)\n",
    "\n",
    "  Input: `root = [10, 9, 8, 7]`\n",
    "\n",
    "  Output: -1\n",
    "\n",
    "</details>\n",
    "\n",
    "#### Starter Code for Question 1"
   ]
  },
  {
   "cell_type": "code",
   "execution_count": null,
   "metadata": {},
   "outputs": [],
   "source": [
    "# Definition for a binary tree node.\n",
    "# class TreeNode(object):\n",
    "#     def __init__(self, val = 0, left = None, right = None):\n",
    "#         self.val = val\n",
    "#         self.left = left\n",
    "#         self.right = right\n",
    "def is_duplicate(root: TreeNode) -> int:\n",
    "  # TODO"
   ]
  },
  {
   "cell_type": "markdown",
   "metadata": {},
   "source": [
    "<details>\n",
    "  <summary>Question 2</summary>\n",
    "\n",
    "  # Question Two: Path to Leaves\n",
    "\n",
    "  Given the `root` of a binary tree, return all root to leaf paths in any order.\n",
    "\n",
    "  ## Examples\n",
    "\n",
    "  ### Example 1\n",
    "\n",
    "  ![](./images/q1_ex1.png)\n",
    "\n",
    "  Input: `root = [1, 2, 2, 3, 5, 6, 7]` *What traversal method is this?*\n",
    "\n",
    "  Output: [[1, 2, 3], [1, 2, 5], [1, 2, 6], [1, 2, 7]]\n",
    "\n",
    "  ### Example 2\n",
    "\n",
    "  ![](./images/q1_ex3.png)\n",
    "\n",
    "  Input: `root = [10, 9, 7, 8]`\n",
    "\n",
    "  Output: [[10, 7], [10, 9, 8]]\n",
    "\n",
    "</details>\n",
    "\n",
    "#### Starter Code for Question 2"
   ]
  },
  {
   "cell_type": "code",
   "execution_count": 6,
   "metadata": {},
   "outputs": [],
   "source": [
    "# Definition for a binary tree node.\n",
    "# class TreeNode(object):\n",
    "#     def __init__(self, val = 0, left = None, right = None):\n",
    "#         self.val = val\n",
    "#         self.left = left\n",
    "#         self.right = right\n",
    "#def bt_path(root: TreeNode) -> List[List[int]]:\n",
    "  #TODO"
   ]
  },
  {
   "cell_type": "markdown",
   "metadata": {},
   "source": [
    "<details>\n",
    "  <summary>Question 3</summary>\n",
    "\n",
    "  # Question Three: Missing Number in Range\n",
    " \n",
    "  You are given a list containing `n` integers in the range `[0, n]`. Return a list of numbers that are missing from the range `[0, n]` of the array. If there is no missing number, return -1. Note, all the integers in the list may not be unique.\n",
    "  \n",
    "  ## Examples\n",
    "\n",
    "  ### Example 1\n",
    "\n",
    "  Input: `lst = [0, 2]`\n",
    "\n",
    "  Output: [1]\n",
    "\n",
    "  ### Example 2\n",
    "\n",
    "  Input: `lst = [5, 0, 1]`\n",
    "\n",
    "  Output: [2, 3, 4]\n",
    "\n",
    "  ### Example 3\n",
    "\n",
    "  Input: `lst = [6, 8, 2, 3, 5, 7, 0, 1, 10]`\n",
    "\n",
    "  Output: [4, 9]\n",
    "\n",
    "</details>\n",
    "\n",
    "#### Starter Code for Question 3\n"
   ]
  },
  {
   "cell_type": "code",
   "execution_count": null,
   "metadata": {},
   "outputs": [],
   "source": [
    "def missing_num(nums: List) -> int:\n",
    "  # TODO"
   ]
  },
  {
   "cell_type": "markdown",
   "metadata": {},
   "source": [
    "\n",
    "## Part 2:\n",
    "\n",
    "-   Paraphrase the problem in your own words\n"
   ]
  },
  {
   "cell_type": "markdown",
   "metadata": {},
   "source": [
    "For a given binary tree, which is input as a list, the objective is to determine all the paths that lead to the different leaves of the tree from the root. the order in which this happens is not taken consideration."
   ]
  },
  {
   "cell_type": "markdown",
   "metadata": {},
   "source": [
    "- In this .ipynb file, there are examples that illustrate how the code should work (the examples provided above). Create 2 new examples for the question you have been assigned, that demonstrate you understand the problem. For question 1 and 2, you don't need to create the tree demonstration, just the input and output.\n"
   ]
  },
  {
   "cell_type": "markdown",
   "metadata": {},
   "source": [
    "Example_1\n",
    "\n",
    "  root=[5, 4, 2, 1, 0]\n",
    "\n",
    "  Output: [[5 , 4 ,1], [5, 4, 0], [5, 2]]\n",
    "\n",
    "Example_2\n",
    "\n",
    "  root=[7, 3, 6, 8, 9, 10]\n",
    "\n",
    "  Output: [[7 , 3 ,8], [7 , 3 ,9],[7, 6, 10]]"
   ]
  },
  {
   "cell_type": "markdown",
   "metadata": {},
   "source": [
    "\n",
    "-   Code the solution to your assigned problem in Python (code chunk). Try to find the best time and space complexity solution!\n"
   ]
  },
  {
   "cell_type": "code",
   "execution_count": 13,
   "metadata": {},
   "outputs": [
    {
     "name": "stdout",
     "output_type": "stream",
     "text": [
      "Paths to all the leaves: [[1, 2, 3, 10], [1, 2, 3, 11], [1, 2, 5, 1], [1, 2, 5, 1], [1, 2, 6, 2], [1, 2, 6, 6], [1, 2, 7]]\n"
     ]
    }
   ],
   "source": [
    "from typing import List\n",
    "\n",
    "class TreeNode(object): \n",
    "    def __init__(self, val=0, left=None, right=None): \n",
    "        self.val = val \n",
    "        self.left = left \n",
    "        self.right = right \n",
    "\n",
    "def bt_path(root: TreeNode) -> List[List[int]]: \n",
    "    paths = []\n",
    "    if not root:\n",
    "        return paths\n",
    "\n",
    "    def dfs(node, current_path):\n",
    "        if node:\n",
    "            current_path.append(node.val)\n",
    "            if not node.left and not node.right:\n",
    "                paths.append(list(current_path))\n",
    "            else:\n",
    "                dfs(node.left, current_path)\n",
    "                dfs(node.right, current_path)\n",
    "            current_path.pop()\n",
    "    \n",
    "    dfs(root, [])\n",
    "    return paths\n",
    "\n",
    "def build_tree(nodes):\n",
    "    if not nodes or nodes[0] is None:\n",
    "        return None\n",
    "    root = TreeNode(nodes[0])\n",
    "    queue = [root]\n",
    "    index = 1\n",
    "    while queue and index < len(nodes):\n",
    "        current = queue.pop(0)\n",
    "        # Assigning left child\n",
    "        if index < len(nodes) and nodes[index] is not None:\n",
    "            current.left = TreeNode(nodes[index])\n",
    "            queue.append(current.left)\n",
    "        index += 1\n",
    "        # Assigning right child\n",
    "        if index < len(nodes) and nodes[index] is not None:\n",
    "            current.right = TreeNode(nodes[index])\n",
    "            queue.append(current.right)\n",
    "        index += 1\n",
    "    return root\n",
    "\n",
    "# Testing\n",
    "root_values = [1, 2, 2, 3, 5, 6, 7, 10, 11, 1, 1, 2, 6]\n",
    "root = build_tree(root_values)\n",
    "paths = bt_path(root)\n",
    "print(\"Paths to all the leaves:\", paths)\n"
   ]
  },
  {
   "cell_type": "markdown",
   "metadata": {},
   "source": [
    "\n",
    "-   Explain why your solution works\n"
   ]
  },
  {
   "cell_type": "markdown",
   "metadata": {},
   "source": [
    "Explanation of the Code:-\n",
    "\n",
    "\"dfs” Function:\n",
    "\n",
    "The “dfs” (depth first search) function is a recursive helper that finds all root to leaf paths in the binary tree.\n",
    "\n",
    "Purpose: To explore every path from the root node down to each leaf node and collect these paths.\n",
    "\n",
    " How It Works:\n",
    "  1. Visit Current Node: When the function reaches a node, it appends the node”s value to the “current_path” list.\n",
    "  2. Check for Leaf Node: It checks if the current node is a leaf (no left or right children). \n",
    "     a. If it’s a leaf: A complete path has been found. The function makes a copy of “current_path” and adds it to the “paths” list.\n",
    "     b. If not a leaf: It continues the search by recursively calling itself on the left and right children.\n",
    "\n",
    "  3. Backtracking: After exploring both children, the function removes the current node”s value from “current_path” before returning to the previous call. Backtracking is necessary because it ensures that “current_path” remains accurate for other paths. Without backtracking, “current_path” would accumulate values from different paths, leading to incorrect results.\n",
    "\n",
    "“build_tree” Function:\n",
    "\n",
    "The “build_tree” function constructs the binary tree from a list of values provided in level order (breadth first) format.\n",
    "\n",
    "Purpose: To convert a list like [1, 2, 3, None, 4] into an actual binary tree structure.\n",
    "\n",
    " How It Works:\n",
    "  1. Initialization: It starts by creating the root node from the first element of the list.\n",
    "  2. Using a Queue: It uses a queue to keep track of nodes whose children need to be assigned.\n",
    "  3. Assigning Children: It iterates through the list, assigning left and right children to each node in the queue.\n",
    "  4. Handling “None” Values: “None” in the list represents an absent child,so the function skips creating a node for it.\n",
    "  5. Building the Tree: This process continues until all nodes are processed, resulting in the complete binary tree.\n",
    "\n",
    " Edge Cases:\n",
    "  1. Empty Tree: If the input “root” is “None”, meaning the tree is empty, the “bt_path” function returns an empty list “[]” since there are no paths to record.\n",
    "  2. Single Node Tree: If the tree consists of only the root node, the function returns a list containing a single path with that node”s value, e.g., “[[root.val]]”.\n",
    "\n",
    "Conclusion:\n",
    "\n",
    "By carefully adding and removing node values in “current_path”, the “dfs” function effectively tracks each unique path from the root to every leaf. The “build_tree” function allows us to easily create a binary tree from a list, handling various scenarios like missing children. Together, these functions enable us to find all root to leaf paths in a binary tree in an efficient and organized manner.\n",
    "\n"
   ]
  },
  {
   "cell_type": "markdown",
   "metadata": {},
   "source": [
    "\n",
    "-   Explain the problem’s time and space complexity\n"
   ]
  },
  {
   "cell_type": "markdown",
   "metadata": {},
   "source": [
    "Time Complexity: O(n)\n",
    "A DFS  Traversal (Depth First Search) is performed starting from the root.\n",
    "Each node is visited once in this traversal and all the further operations involved like:\n",
    "1. Appending the current nodes value to the path- O(1)\n",
    "2. Checking if a node is a leaf?- O(1)\n",
    "3. Copying the current path - O(H)\n",
    "3. Backtracking - O(1)\n",
    "\n",
    "Overall Time complexity:\n",
    "By combining all the operations like visting the nodes, copying paths, checking nodes we get,\n",
    "O(n) time complexity since the sum of all operations does linear amount of work.\n",
    "\n",
    "Space Complexity: O(H)\n",
    "Here H is the height of the tree.\n",
    "The space complexity is h and not n because of the two different data structures that we use (recursion stack and list)\n",
    "\n",
    "Recursion is using space in the stack and its maximum depth is proportional to the height of the binary tree, H\n",
    "For a binary tree with 3 nodes the height, H is 3.\n",
    "\n",
    "The current_path list keeps track of the nodes from the root to the current node.The size of current_path can grow up to H, matching the height of the tree.\n",
    "This happens when we reach the leaf node at depth H, current_path contains H node values\n",
    "\n",
    "Combined space complexity:\n",
    "The combined space used by the recursion stack and current_path is proportional to 2H.\n",
    "In Big O Notation: Constants are ignored, so O(2H) becomes O(H)."
   ]
  },
  {
   "cell_type": "markdown",
   "metadata": {},
   "source": [
    "\n",
    "-   Explain the thinking to an alternative solution (no coding required, but a classmate reading this should be able to code it up based off your text)\n"
   ]
  },
  {
   "cell_type": "markdown",
   "metadata": {},
   "source": [
    "An alternate way to do this can be done without recursion and just by using a stack.\n",
    "This is will gives more control over the traversal process and avoids potential stack overflow issues with deep trees.\n",
    "\n",
    "Key Concepts:\n",
    "\n",
    "Iterative Traversal: Use a stack to manage the traversal state explicitly.\n",
    "Path Tracking: Keep track of the path from the root to the current node.\n",
    "Leaf Node Identification: Detect when a leaf node is reached to record a complete path.\n",
    "\n",
    "\n",
    "1. Initialize Data Structures:\n",
    "\n",
    "a. Check for Empty Tree: If the \"root\" is \"None\", return an empty list \"[]\" since there are no paths.\n",
    "b. Create a Stack: Initialize a stack to store tuples of nodes and their corresponding paths: \"stack = [(root, [root.val])]\"\n",
    "c. Prepare Result List: Initialize an empty list \"paths = []\" to store all root-to-leaf paths.\n",
    "\n",
    "2. Iterative Traversal Using Stack:\n",
    "\n",
    "a. Pop from Stack: Pop a tuple \"(current_node, current_path)\" from the stack.\n",
    "b. Check for Leaf Node: If \"current_node\" has no left or right child (i.e., it's a leaf node) then append the \"current_path\" to the \"paths\" list.\n",
    "c. Process Right Child: If \"current_node.right\" exists then append \"(current_node.right, current_path + [current_node.right.val])\" to the stack.\n",
    "d. Process Left Child:  If \"current_node.left\" exists append \"(current_node.left, current_path + [current_node.left.val])\" to the stack.\n",
    "\n",
    "3. Return the Result:\n",
    "\n",
    "a. After the stack is empty, all paths have been explored.\n",
    "b. Return the \"paths\" list containing all root-to-leaf paths.\n",
    "\n",
    "Further considerations for coding: \n",
    "\n",
    "1.Use a list or stack data structure to utilize efficient \"append\" and \"pop\" operations.\n",
    "2.Ensure the code handles for empty trees and trees with a single node.\n",
    "\n"
   ]
  },
  {
   "cell_type": "markdown",
   "metadata": {},
   "source": [
    "## Evaluation Criteria\n",
    "\n",
    "-   Problem is accurately stated\n",
    "\n",
    "-   Two examples are correct and easily understandable\n",
    "\n",
    "-   Correctness, time, and space complexity of the coding solution\n",
    "\n",
    "-   Clarity in explaining why the solution works, its time and space complexity\n",
    "\n",
    "-   Clarity in the proposal to the alternative solution"
   ]
  },
  {
   "cell_type": "markdown",
   "metadata": {},
   "source": [
    "## Submission Information\n",
    "\n",
    "🚨 **Please review our [Assignment Submission Guide](https://github.com/UofT-DSI/onboarding/blob/main/onboarding_documents/submissions.md)** 🚨 for detailed instructions on how to format, branch, and submit your work. Following these guidelines is crucial for your submissions to be evaluated correctly.\n",
    "\n",
    "### Submission Parameters:\n",
    "* Submission Due Date: `HH:MM AM/PM - DD/MM/YYYY`\n",
    "* The branch name for your repo should be: `assignment-1`\n",
    "* What to submit for this assignment:\n",
    "    * This Jupyter Notebook (assignment_1.ipynb) should be populated and should be the only change in your pull request.\n",
    "* What the pull request link should look like for this assignment: `https://github.com/<your_github_username>/algorithms_and_data_structures/pull/<pr_id>`\n",
    "    * Open a private window in your browser. Copy and paste the link to your pull request into the address bar. Make sure you can see your pull request properly. This helps the technical facilitator and learning support staff review your submission easily.\n",
    "\n",
    "Checklist:\n",
    "- [ ] Create a branch called `assignment-1`.\n",
    "- [ ] Ensure that the repository is public.\n",
    "- [ ] Review [the PR description guidelines](https://github.com/UofT-DSI/onboarding/blob/main/onboarding_documents/submissions.md#guidelines-for-pull-request-descriptions) and adhere to them.\n",
    "- [ ] Verify that the link is accessible in a private browser window.\n",
    "\n",
    "If you encounter any difficulties or have questions, please don't hesitate to reach out to our team via our Slack at `#cohort-3-help`. Our Technical Facilitators and Learning Support staff are here to help you navigate any challenges."
   ]
  }
 ],
 "metadata": {
  "kernelspec": {
   "display_name": "Python 3",
   "language": "python",
   "name": "python3"
  },
  "language_info": {
   "codemirror_mode": {
    "name": "ipython",
    "version": 3
   },
   "file_extension": ".py",
   "mimetype": "text/x-python",
   "name": "python",
   "nbconvert_exporter": "python",
   "pygments_lexer": "ipython3",
   "version": "3.12.6"
  }
 },
 "nbformat": 4,
 "nbformat_minor": 2
}
